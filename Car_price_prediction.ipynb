{
 "cells": [
  {
   "cell_type": "code",
   "execution_count": 1,
   "metadata": {
    "collapsed": true
   },
   "outputs": [],
   "source": [
    "import pandas as pd\n",
    "import numpy as np"
   ]
  },
  {
   "cell_type": "code",
   "execution_count": 3,
   "metadata": {
    "collapsed": false
   },
   "outputs": [
    {
     "data": {
      "text/html": [
       "<div>\n",
       "<table border=\"1\" class=\"dataframe\">\n",
       "  <thead>\n",
       "    <tr style=\"text-align: right;\">\n",
       "      <th></th>\n",
       "      <th>symboling</th>\n",
       "      <th>normalized-losses</th>\n",
       "      <th>make</th>\n",
       "      <th>fuel-type</th>\n",
       "      <th>aspiration</th>\n",
       "      <th>num-of-doors</th>\n",
       "      <th>body-style</th>\n",
       "      <th>drive-wheels</th>\n",
       "      <th>engine-location</th>\n",
       "      <th>wheel-base</th>\n",
       "      <th>...</th>\n",
       "      <th>engine-size</th>\n",
       "      <th>fuel-system</th>\n",
       "      <th>bore</th>\n",
       "      <th>stroke</th>\n",
       "      <th>compression-rate</th>\n",
       "      <th>horsepower</th>\n",
       "      <th>peak-rpm</th>\n",
       "      <th>city-mpg</th>\n",
       "      <th>highway-mpg</th>\n",
       "      <th>price</th>\n",
       "    </tr>\n",
       "  </thead>\n",
       "  <tbody>\n",
       "    <tr>\n",
       "      <th>0</th>\n",
       "      <td>3</td>\n",
       "      <td>?</td>\n",
       "      <td>alfa-romero</td>\n",
       "      <td>gas</td>\n",
       "      <td>std</td>\n",
       "      <td>two</td>\n",
       "      <td>convertible</td>\n",
       "      <td>rwd</td>\n",
       "      <td>front</td>\n",
       "      <td>88.6</td>\n",
       "      <td>...</td>\n",
       "      <td>130</td>\n",
       "      <td>mpfi</td>\n",
       "      <td>3.47</td>\n",
       "      <td>2.68</td>\n",
       "      <td>9.0</td>\n",
       "      <td>111</td>\n",
       "      <td>5000</td>\n",
       "      <td>21</td>\n",
       "      <td>27</td>\n",
       "      <td>13495</td>\n",
       "    </tr>\n",
       "    <tr>\n",
       "      <th>1</th>\n",
       "      <td>3</td>\n",
       "      <td>?</td>\n",
       "      <td>alfa-romero</td>\n",
       "      <td>gas</td>\n",
       "      <td>std</td>\n",
       "      <td>two</td>\n",
       "      <td>convertible</td>\n",
       "      <td>rwd</td>\n",
       "      <td>front</td>\n",
       "      <td>88.6</td>\n",
       "      <td>...</td>\n",
       "      <td>130</td>\n",
       "      <td>mpfi</td>\n",
       "      <td>3.47</td>\n",
       "      <td>2.68</td>\n",
       "      <td>9.0</td>\n",
       "      <td>111</td>\n",
       "      <td>5000</td>\n",
       "      <td>21</td>\n",
       "      <td>27</td>\n",
       "      <td>16500</td>\n",
       "    </tr>\n",
       "    <tr>\n",
       "      <th>2</th>\n",
       "      <td>1</td>\n",
       "      <td>?</td>\n",
       "      <td>alfa-romero</td>\n",
       "      <td>gas</td>\n",
       "      <td>std</td>\n",
       "      <td>two</td>\n",
       "      <td>hatchback</td>\n",
       "      <td>rwd</td>\n",
       "      <td>front</td>\n",
       "      <td>94.5</td>\n",
       "      <td>...</td>\n",
       "      <td>152</td>\n",
       "      <td>mpfi</td>\n",
       "      <td>2.68</td>\n",
       "      <td>3.47</td>\n",
       "      <td>9.0</td>\n",
       "      <td>154</td>\n",
       "      <td>5000</td>\n",
       "      <td>19</td>\n",
       "      <td>26</td>\n",
       "      <td>16500</td>\n",
       "    </tr>\n",
       "    <tr>\n",
       "      <th>3</th>\n",
       "      <td>2</td>\n",
       "      <td>164</td>\n",
       "      <td>audi</td>\n",
       "      <td>gas</td>\n",
       "      <td>std</td>\n",
       "      <td>four</td>\n",
       "      <td>sedan</td>\n",
       "      <td>fwd</td>\n",
       "      <td>front</td>\n",
       "      <td>99.8</td>\n",
       "      <td>...</td>\n",
       "      <td>109</td>\n",
       "      <td>mpfi</td>\n",
       "      <td>3.19</td>\n",
       "      <td>3.40</td>\n",
       "      <td>10.0</td>\n",
       "      <td>102</td>\n",
       "      <td>5500</td>\n",
       "      <td>24</td>\n",
       "      <td>30</td>\n",
       "      <td>13950</td>\n",
       "    </tr>\n",
       "    <tr>\n",
       "      <th>4</th>\n",
       "      <td>2</td>\n",
       "      <td>164</td>\n",
       "      <td>audi</td>\n",
       "      <td>gas</td>\n",
       "      <td>std</td>\n",
       "      <td>four</td>\n",
       "      <td>sedan</td>\n",
       "      <td>4wd</td>\n",
       "      <td>front</td>\n",
       "      <td>99.4</td>\n",
       "      <td>...</td>\n",
       "      <td>136</td>\n",
       "      <td>mpfi</td>\n",
       "      <td>3.19</td>\n",
       "      <td>3.40</td>\n",
       "      <td>8.0</td>\n",
       "      <td>115</td>\n",
       "      <td>5500</td>\n",
       "      <td>18</td>\n",
       "      <td>22</td>\n",
       "      <td>17450</td>\n",
       "    </tr>\n",
       "  </tbody>\n",
       "</table>\n",
       "<p>5 rows × 26 columns</p>\n",
       "</div>"
      ],
      "text/plain": [
       "   symboling normalized-losses         make fuel-type aspiration num-of-doors  \\\n",
       "0          3                 ?  alfa-romero       gas        std          two   \n",
       "1          3                 ?  alfa-romero       gas        std          two   \n",
       "2          1                 ?  alfa-romero       gas        std          two   \n",
       "3          2               164         audi       gas        std         four   \n",
       "4          2               164         audi       gas        std         four   \n",
       "\n",
       "    body-style drive-wheels engine-location  wheel-base  ...    engine-size  \\\n",
       "0  convertible          rwd           front        88.6  ...            130   \n",
       "1  convertible          rwd           front        88.6  ...            130   \n",
       "2    hatchback          rwd           front        94.5  ...            152   \n",
       "3        sedan          fwd           front        99.8  ...            109   \n",
       "4        sedan          4wd           front        99.4  ...            136   \n",
       "\n",
       "   fuel-system  bore  stroke compression-rate horsepower  peak-rpm city-mpg  \\\n",
       "0         mpfi  3.47    2.68              9.0        111      5000       21   \n",
       "1         mpfi  3.47    2.68              9.0        111      5000       21   \n",
       "2         mpfi  2.68    3.47              9.0        154      5000       19   \n",
       "3         mpfi  3.19    3.40             10.0        102      5500       24   \n",
       "4         mpfi  3.19    3.40              8.0        115      5500       18   \n",
       "\n",
       "  highway-mpg  price  \n",
       "0          27  13495  \n",
       "1          27  16500  \n",
       "2          26  16500  \n",
       "3          30  13950  \n",
       "4          22  17450  \n",
       "\n",
       "[5 rows x 26 columns]"
      ]
     },
     "execution_count": 3,
     "metadata": {},
     "output_type": "execute_result"
    }
   ],
   "source": [
    "cols = ['symboling', 'normalized-losses', 'make', 'fuel-type', 'aspiration', 'num-of-doors', 'body-style', \n",
    "        'drive-wheels', 'engine-location', 'wheel-base', 'length', 'width', 'height', 'curb-weight', 'engine-type', \n",
    "        'num-of-cylinders', 'engine-size', 'fuel-system', 'bore', 'stroke', 'compression-rate', 'horsepower', 'peak-rpm', 'city-mpg', 'highway-mpg', 'price']\n",
    "cars = pd.read_csv('imports-85.data', names = cols)\n",
    "cars.head()"
   ]
  },
  {
   "cell_type": "code",
   "execution_count": 3,
   "metadata": {
    "collapsed": false
   },
   "outputs": [
    {
     "name": "stdout",
     "output_type": "stream",
     "text": [
      "<class 'pandas.core.frame.DataFrame'>\n",
      "RangeIndex: 205 entries, 0 to 204\n",
      "Data columns (total 26 columns):\n",
      "symboling            205 non-null int64\n",
      "normalized-losses    205 non-null object\n",
      "make                 205 non-null object\n",
      "fuel-type            205 non-null object\n",
      "aspiration           205 non-null object\n",
      "num-of-doors         205 non-null object\n",
      "body-style           205 non-null object\n",
      "drive-wheels         205 non-null object\n",
      "engine-location      205 non-null object\n",
      "wheel-base           205 non-null float64\n",
      "length               205 non-null float64\n",
      "width                205 non-null float64\n",
      "height               205 non-null float64\n",
      "curb-weight          205 non-null int64\n",
      "engine-type          205 non-null object\n",
      "num-of-cylinders     205 non-null object\n",
      "engine-size          205 non-null int64\n",
      "fuel-system          205 non-null object\n",
      "bore                 205 non-null object\n",
      "stroke               205 non-null object\n",
      "compression-rate     205 non-null float64\n",
      "horsepower           205 non-null object\n",
      "peak-rpm             205 non-null object\n",
      "city-mpg             205 non-null int64\n",
      "highway-mpg          205 non-null int64\n",
      "price                205 non-null object\n",
      "dtypes: float64(5), int64(5), object(16)\n",
      "memory usage: 41.7+ KB\n"
     ]
    }
   ],
   "source": [
    "cars.info()"
   ]
  },
  {
   "cell_type": "code",
   "execution_count": 4,
   "metadata": {
    "collapsed": false
   },
   "outputs": [
    {
     "data": {
      "text/plain": [
       "(205, 15)"
      ]
     },
     "execution_count": 4,
     "metadata": {},
     "output_type": "execute_result"
    }
   ],
   "source": [
    "# cut out columns with contain not numerical data\n",
    "cars_num_col = ['normalized-losses', 'wheel-base', 'length', 'width', 'height', \n",
    "                'curb-weight', 'engine-size',  'bore', 'stroke', 'compression-rate',\n",
    "                'horsepower', 'peak-rpm', 'city-mpg', 'highway-mpg', 'price']\n",
    "numerical_cars = cars[cars_num_col]\n",
    "numerical_cars.shape"
   ]
  },
  {
   "cell_type": "markdown",
   "metadata": {},
   "source": [
    "# Data Cleaning"
   ]
  },
  {
   "cell_type": "markdown",
   "metadata": {},
   "source": [
    "### Replace '?'"
   ]
  },
  {
   "cell_type": "code",
   "execution_count": 5,
   "metadata": {
    "collapsed": false
   },
   "outputs": [
    {
     "data": {
      "text/html": [
       "<div>\n",
       "<table border=\"1\" class=\"dataframe\">\n",
       "  <thead>\n",
       "    <tr style=\"text-align: right;\">\n",
       "      <th></th>\n",
       "      <th>normalized-losses</th>\n",
       "      <th>wheel-base</th>\n",
       "      <th>length</th>\n",
       "      <th>width</th>\n",
       "      <th>height</th>\n",
       "      <th>curb-weight</th>\n",
       "      <th>engine-size</th>\n",
       "      <th>bore</th>\n",
       "      <th>stroke</th>\n",
       "      <th>compression-rate</th>\n",
       "      <th>horsepower</th>\n",
       "      <th>peak-rpm</th>\n",
       "      <th>city-mpg</th>\n",
       "      <th>highway-mpg</th>\n",
       "      <th>price</th>\n",
       "    </tr>\n",
       "  </thead>\n",
       "  <tbody>\n",
       "    <tr>\n",
       "      <th>0</th>\n",
       "      <td>NaN</td>\n",
       "      <td>88.6</td>\n",
       "      <td>168.8</td>\n",
       "      <td>64.1</td>\n",
       "      <td>48.8</td>\n",
       "      <td>2548</td>\n",
       "      <td>130</td>\n",
       "      <td>3.47</td>\n",
       "      <td>2.68</td>\n",
       "      <td>9.0</td>\n",
       "      <td>111</td>\n",
       "      <td>5000</td>\n",
       "      <td>21</td>\n",
       "      <td>27</td>\n",
       "      <td>13495</td>\n",
       "    </tr>\n",
       "    <tr>\n",
       "      <th>1</th>\n",
       "      <td>NaN</td>\n",
       "      <td>88.6</td>\n",
       "      <td>168.8</td>\n",
       "      <td>64.1</td>\n",
       "      <td>48.8</td>\n",
       "      <td>2548</td>\n",
       "      <td>130</td>\n",
       "      <td>3.47</td>\n",
       "      <td>2.68</td>\n",
       "      <td>9.0</td>\n",
       "      <td>111</td>\n",
       "      <td>5000</td>\n",
       "      <td>21</td>\n",
       "      <td>27</td>\n",
       "      <td>16500</td>\n",
       "    </tr>\n",
       "    <tr>\n",
       "      <th>2</th>\n",
       "      <td>NaN</td>\n",
       "      <td>94.5</td>\n",
       "      <td>171.2</td>\n",
       "      <td>65.5</td>\n",
       "      <td>52.4</td>\n",
       "      <td>2823</td>\n",
       "      <td>152</td>\n",
       "      <td>2.68</td>\n",
       "      <td>3.47</td>\n",
       "      <td>9.0</td>\n",
       "      <td>154</td>\n",
       "      <td>5000</td>\n",
       "      <td>19</td>\n",
       "      <td>26</td>\n",
       "      <td>16500</td>\n",
       "    </tr>\n",
       "    <tr>\n",
       "      <th>3</th>\n",
       "      <td>164</td>\n",
       "      <td>99.8</td>\n",
       "      <td>176.6</td>\n",
       "      <td>66.2</td>\n",
       "      <td>54.3</td>\n",
       "      <td>2337</td>\n",
       "      <td>109</td>\n",
       "      <td>3.19</td>\n",
       "      <td>3.40</td>\n",
       "      <td>10.0</td>\n",
       "      <td>102</td>\n",
       "      <td>5500</td>\n",
       "      <td>24</td>\n",
       "      <td>30</td>\n",
       "      <td>13950</td>\n",
       "    </tr>\n",
       "    <tr>\n",
       "      <th>4</th>\n",
       "      <td>164</td>\n",
       "      <td>99.4</td>\n",
       "      <td>176.6</td>\n",
       "      <td>66.4</td>\n",
       "      <td>54.3</td>\n",
       "      <td>2824</td>\n",
       "      <td>136</td>\n",
       "      <td>3.19</td>\n",
       "      <td>3.40</td>\n",
       "      <td>8.0</td>\n",
       "      <td>115</td>\n",
       "      <td>5500</td>\n",
       "      <td>18</td>\n",
       "      <td>22</td>\n",
       "      <td>17450</td>\n",
       "    </tr>\n",
       "  </tbody>\n",
       "</table>\n",
       "</div>"
      ],
      "text/plain": [
       "  normalized-losses  wheel-base  length  width  height  curb-weight  \\\n",
       "0               NaN        88.6   168.8   64.1    48.8         2548   \n",
       "1               NaN        88.6   168.8   64.1    48.8         2548   \n",
       "2               NaN        94.5   171.2   65.5    52.4         2823   \n",
       "3               164        99.8   176.6   66.2    54.3         2337   \n",
       "4               164        99.4   176.6   66.4    54.3         2824   \n",
       "\n",
       "   engine-size  bore stroke  compression-rate horsepower peak-rpm  city-mpg  \\\n",
       "0          130  3.47   2.68               9.0        111     5000        21   \n",
       "1          130  3.47   2.68               9.0        111     5000        21   \n",
       "2          152  2.68   3.47               9.0        154     5000        19   \n",
       "3          109  3.19   3.40              10.0        102     5500        24   \n",
       "4          136  3.19   3.40               8.0        115     5500        18   \n",
       "\n",
       "   highway-mpg  price  \n",
       "0           27  13495  \n",
       "1           27  16500  \n",
       "2           26  16500  \n",
       "3           30  13950  \n",
       "4           22  17450  "
      ]
     },
     "execution_count": 5,
     "metadata": {},
     "output_type": "execute_result"
    }
   ],
   "source": [
    "numerical_cars = numerical_cars.replace('?', np.nan)\n",
    "numerical_cars.head()"
   ]
  },
  {
   "cell_type": "markdown",
   "metadata": {},
   "source": [
    "### Change type of data"
   ]
  },
  {
   "cell_type": "code",
   "execution_count": 6,
   "metadata": {
    "collapsed": false
   },
   "outputs": [],
   "source": [
    "numerical_cars = numerical_cars.astype('float')"
   ]
  },
  {
   "cell_type": "code",
   "execution_count": 7,
   "metadata": {
    "collapsed": false
   },
   "outputs": [
    {
     "data": {
      "text/plain": [
       "normalized-losses      122.000000\n",
       "wheel-base              98.756585\n",
       "length                 174.049268\n",
       "width                   65.907805\n",
       "height                  53.724878\n",
       "curb-weight           2555.565854\n",
       "engine-size            126.907317\n",
       "bore                     3.329751\n",
       "stroke                   3.255423\n",
       "compression-rate        10.142537\n",
       "horsepower             104.256158\n",
       "peak-rpm              5125.369458\n",
       "city-mpg                25.219512\n",
       "highway-mpg             30.751220\n",
       "price                13207.129353\n",
       "dtype: float64"
      ]
     },
     "execution_count": 7,
     "metadata": {},
     "output_type": "execute_result"
    }
   ],
   "source": [
    "numerical_cars.mean()"
   ]
  },
  {
   "cell_type": "code",
   "execution_count": 8,
   "metadata": {
    "collapsed": false
   },
   "outputs": [
    {
     "data": {
      "text/plain": [
       "normalized-losses    41\n",
       "wheel-base            0\n",
       "length                0\n",
       "width                 0\n",
       "height                0\n",
       "curb-weight           0\n",
       "engine-size           0\n",
       "bore                  4\n",
       "stroke                4\n",
       "compression-rate      0\n",
       "horsepower            2\n",
       "peak-rpm              2\n",
       "city-mpg              0\n",
       "highway-mpg           0\n",
       "price                 4\n",
       "dtype: int64"
      ]
     },
     "execution_count": 8,
     "metadata": {},
     "output_type": "execute_result"
    }
   ],
   "source": [
    "numerical_cars.isnull().sum()"
   ]
  },
  {
   "cell_type": "markdown",
   "metadata": {},
   "source": [
    "Because **\"Price** is our goal feature, let's cut out rows which consist missing data about price"
   ]
  },
  {
   "cell_type": "code",
   "execution_count": 9,
   "metadata": {
    "collapsed": false
   },
   "outputs": [
    {
     "data": {
      "text/plain": [
       "normalized-losses    37\n",
       "wheel-base            0\n",
       "length                0\n",
       "width                 0\n",
       "height                0\n",
       "curb-weight           0\n",
       "engine-size           0\n",
       "bore                  4\n",
       "stroke                4\n",
       "compression-rate      0\n",
       "horsepower            2\n",
       "peak-rpm              2\n",
       "city-mpg              0\n",
       "highway-mpg           0\n",
       "price                 0\n",
       "dtype: int64"
      ]
     },
     "execution_count": 9,
     "metadata": {},
     "output_type": "execute_result"
    }
   ],
   "source": [
    "numerical_cars = numerical_cars.dropna(subset =['price'])\n",
    "numerical_cars.isnull().sum()"
   ]
  },
  {
   "cell_type": "code",
   "execution_count": 10,
   "metadata": {
    "collapsed": false
   },
   "outputs": [
    {
     "data": {
      "text/plain": [
       "normalized-losses    0\n",
       "wheel-base           0\n",
       "length               0\n",
       "width                0\n",
       "height               0\n",
       "curb-weight          0\n",
       "engine-size          0\n",
       "bore                 0\n",
       "stroke               0\n",
       "compression-rate     0\n",
       "horsepower           0\n",
       "peak-rpm             0\n",
       "city-mpg             0\n",
       "highway-mpg          0\n",
       "price                0\n",
       "dtype: int64"
      ]
     },
     "execution_count": 10,
     "metadata": {},
     "output_type": "execute_result"
    }
   ],
   "source": [
    "# now let's replace missing values by averange value for each column\n",
    "numerical_cars = numerical_cars.fillna(numerical_cars.mean())\n",
    "numerical_cars.isnull().sum()"
   ]
  },
  {
   "cell_type": "code",
   "execution_count": 11,
   "metadata": {
    "collapsed": false
   },
   "outputs": [
    {
     "data": {
      "text/html": [
       "<div>\n",
       "<table border=\"1\" class=\"dataframe\">\n",
       "  <thead>\n",
       "    <tr style=\"text-align: right;\">\n",
       "      <th></th>\n",
       "      <th>normalized-losses</th>\n",
       "      <th>wheel-base</th>\n",
       "      <th>length</th>\n",
       "      <th>width</th>\n",
       "      <th>height</th>\n",
       "      <th>curb-weight</th>\n",
       "      <th>engine-size</th>\n",
       "      <th>bore</th>\n",
       "      <th>stroke</th>\n",
       "      <th>compression-rate</th>\n",
       "      <th>horsepower</th>\n",
       "      <th>peak-rpm</th>\n",
       "      <th>city-mpg</th>\n",
       "      <th>highway-mpg</th>\n",
       "      <th>price</th>\n",
       "    </tr>\n",
       "  </thead>\n",
       "  <tbody>\n",
       "    <tr>\n",
       "      <th>0</th>\n",
       "      <td>0.000000</td>\n",
       "      <td>-1.680910</td>\n",
       "      <td>-0.438315</td>\n",
       "      <td>-0.851335</td>\n",
       "      <td>-2.029015</td>\n",
       "      <td>-0.014821</td>\n",
       "      <td>0.075201</td>\n",
       "      <td>0.519597</td>\n",
       "      <td>-1.825369</td>\n",
       "      <td>-0.290709</td>\n",
       "      <td>0.203476</td>\n",
       "      <td>-0.245942</td>\n",
       "      <td>-0.650624</td>\n",
       "      <td>-0.540937</td>\n",
       "      <td>13495.0</td>\n",
       "    </tr>\n",
       "    <tr>\n",
       "      <th>1</th>\n",
       "      <td>0.000000</td>\n",
       "      <td>-1.680910</td>\n",
       "      <td>-0.438315</td>\n",
       "      <td>-0.851335</td>\n",
       "      <td>-2.029015</td>\n",
       "      <td>-0.014821</td>\n",
       "      <td>0.075201</td>\n",
       "      <td>0.519597</td>\n",
       "      <td>-1.825369</td>\n",
       "      <td>-0.290709</td>\n",
       "      <td>0.203476</td>\n",
       "      <td>-0.245942</td>\n",
       "      <td>-0.650624</td>\n",
       "      <td>-0.540937</td>\n",
       "      <td>16500.0</td>\n",
       "    </tr>\n",
       "    <tr>\n",
       "      <th>2</th>\n",
       "      <td>0.000000</td>\n",
       "      <td>-0.708334</td>\n",
       "      <td>-0.243544</td>\n",
       "      <td>-0.185134</td>\n",
       "      <td>-0.558319</td>\n",
       "      <td>0.516789</td>\n",
       "      <td>0.604724</td>\n",
       "      <td>-2.427374</td>\n",
       "      <td>0.674254</td>\n",
       "      <td>-0.290709</td>\n",
       "      <td>1.354267</td>\n",
       "      <td>-0.245942</td>\n",
       "      <td>-0.961995</td>\n",
       "      <td>-0.687669</td>\n",
       "      <td>16500.0</td>\n",
       "    </tr>\n",
       "    <tr>\n",
       "      <th>3</th>\n",
       "      <td>1.312654</td>\n",
       "      <td>0.165335</td>\n",
       "      <td>0.194690</td>\n",
       "      <td>0.147966</td>\n",
       "      <td>0.217881</td>\n",
       "      <td>-0.422710</td>\n",
       "      <td>-0.430252</td>\n",
       "      <td>-0.524899</td>\n",
       "      <td>0.452769</td>\n",
       "      <td>-0.041019</td>\n",
       "      <td>-0.037387</td>\n",
       "      <td>0.799836</td>\n",
       "      <td>-0.183569</td>\n",
       "      <td>-0.100741</td>\n",
       "      <td>13950.0</td>\n",
       "    </tr>\n",
       "    <tr>\n",
       "      <th>4</th>\n",
       "      <td>1.312654</td>\n",
       "      <td>0.099398</td>\n",
       "      <td>0.194690</td>\n",
       "      <td>0.243137</td>\n",
       "      <td>0.217881</td>\n",
       "      <td>0.518722</td>\n",
       "      <td>0.219617</td>\n",
       "      <td>-0.524899</td>\n",
       "      <td>0.452769</td>\n",
       "      <td>-0.540399</td>\n",
       "      <td>0.310527</td>\n",
       "      <td>0.799836</td>\n",
       "      <td>-1.117680</td>\n",
       "      <td>-1.274597</td>\n",
       "      <td>17450.0</td>\n",
       "    </tr>\n",
       "  </tbody>\n",
       "</table>\n",
       "</div>"
      ],
      "text/plain": [
       "   normalized-losses  wheel-base    length     width    height  curb-weight  \\\n",
       "0           0.000000   -1.680910 -0.438315 -0.851335 -2.029015    -0.014821   \n",
       "1           0.000000   -1.680910 -0.438315 -0.851335 -2.029015    -0.014821   \n",
       "2           0.000000   -0.708334 -0.243544 -0.185134 -0.558319     0.516789   \n",
       "3           1.312654    0.165335  0.194690  0.147966  0.217881    -0.422710   \n",
       "4           1.312654    0.099398  0.194690  0.243137  0.217881     0.518722   \n",
       "\n",
       "   engine-size      bore    stroke  compression-rate  horsepower  peak-rpm  \\\n",
       "0     0.075201  0.519597 -1.825369         -0.290709    0.203476 -0.245942   \n",
       "1     0.075201  0.519597 -1.825369         -0.290709    0.203476 -0.245942   \n",
       "2     0.604724 -2.427374  0.674254         -0.290709    1.354267 -0.245942   \n",
       "3    -0.430252 -0.524899  0.452769         -0.041019   -0.037387  0.799836   \n",
       "4     0.219617 -0.524899  0.452769         -0.540399    0.310527  0.799836   \n",
       "\n",
       "   city-mpg  highway-mpg    price  \n",
       "0 -0.650624    -0.540937  13495.0  \n",
       "1 -0.650624    -0.540937  16500.0  \n",
       "2 -0.961995    -0.687669  16500.0  \n",
       "3 -0.183569    -0.100741  13950.0  \n",
       "4 -1.117680    -1.274597  17450.0  "
      ]
     },
     "execution_count": 11,
     "metadata": {},
     "output_type": "execute_result"
    }
   ],
   "source": [
    "# Normalize the numeric columns so all values range from 0 to 1\n",
    "normalized_cars = (numerical_cars - numerical_cars.mean()) / (numerical_cars.std())\n",
    "normalized_cars['price'] = numerical_cars['price']\n",
    "normalized_cars.head()\n"
   ]
  },
  {
   "cell_type": "code",
   "execution_count": 12,
   "metadata": {
    "collapsed": false
   },
   "outputs": [
    {
     "data": {
      "text/plain": [
       "(201, 15)"
      ]
     },
     "execution_count": 12,
     "metadata": {},
     "output_type": "execute_result"
    }
   ],
   "source": [
    "normalized_cars.shape"
   ]
  },
  {
   "cell_type": "markdown",
   "metadata": {},
   "source": [
    "# Univariate Model  \n",
    "\n",
    "###### 1. Using the different numeric columns "
   ]
  },
  {
   "cell_type": "code",
   "execution_count": 13,
   "metadata": {
    "collapsed": true
   },
   "outputs": [],
   "source": [
    "from sklearn.neighbors import KNeighborsRegressor\n",
    "from sklearn.metrics import mean_squared_error"
   ]
  },
  {
   "cell_type": "code",
   "execution_count": 14,
   "metadata": {
    "collapsed": false
   },
   "outputs": [
    {
     "data": {
      "text/plain": [
       "['normalized-losses',\n",
       " 'wheel-base',\n",
       " 'length',\n",
       " 'width',\n",
       " 'height',\n",
       " 'curb-weight',\n",
       " 'engine-size',\n",
       " 'bore',\n",
       " 'stroke',\n",
       " 'compression-rate',\n",
       " 'horsepower',\n",
       " 'peak-rpm',\n",
       " 'city-mpg',\n",
       " 'highway-mpg',\n",
       " 'price']"
      ]
     },
     "execution_count": 14,
     "metadata": {},
     "output_type": "execute_result"
    }
   ],
   "source": [
    "columns = normalized_cars.columns\n",
    "columns = columns.tolist()\n",
    "columns"
   ]
  },
  {
   "cell_type": "code",
   "execution_count": 15,
   "metadata": {
    "collapsed": false
   },
   "outputs": [
    {
     "data": {
      "text/plain": [
       "'price'"
      ]
     },
     "execution_count": 15,
     "metadata": {},
     "output_type": "execute_result"
    }
   ],
   "source": [
    "columns[14]"
   ]
  },
  {
   "cell_type": "code",
   "execution_count": 16,
   "metadata": {
    "collapsed": false
   },
   "outputs": [
    {
     "data": {
      "text/plain": [
       "['normalized-losses',\n",
       " 'wheel-base',\n",
       " 'length',\n",
       " 'width',\n",
       " 'height',\n",
       " 'curb-weight',\n",
       " 'engine-size',\n",
       " 'bore',\n",
       " 'stroke',\n",
       " 'compression-rate',\n",
       " 'horsepower',\n",
       " 'peak-rpm',\n",
       " 'city-mpg',\n",
       " 'highway-mpg']"
      ]
     },
     "execution_count": 16,
     "metadata": {},
     "output_type": "execute_result"
    }
   ],
   "source": [
    "del columns[14]\n",
    "columns"
   ]
  },
  {
   "cell_type": "code",
   "execution_count": 17,
   "metadata": {
    "collapsed": true
   },
   "outputs": [],
   "source": [
    "def knn_train_test(data):\n",
    "    train_df = data.iloc[:150]\n",
    "    test_df = data.iloc[150:]\n",
    "    knn = KNeighborsRegressor(algorithm = 'brute')\n",
    "    rmses = []\n",
    "    for i in columns:\n",
    "        knn.fit(train_df[[i]], train_df['price'])\n",
    "        prediction = knn.predict(test_df[[i]])\n",
    "        rmse = np.sqrt(mean_squared_error(test_df['price'], prediction))\n",
    "        rmses.append(rmse)\n",
    "    rmses_dict = {}\n",
    "    for i, col in enumerate(columns):\n",
    "        rmses_dict[col] = rmses[i]\n",
    "    return(rmses_dict)        \n",
    "    "
   ]
  },
  {
   "cell_type": "code",
   "execution_count": 18,
   "metadata": {
    "collapsed": false
   },
   "outputs": [],
   "source": [
    "rmse_univariate = knn_train_test(normalized_cars)"
   ]
  },
  {
   "cell_type": "code",
   "execution_count": 19,
   "metadata": {
    "collapsed": false
   },
   "outputs": [
    {
     "data": {
      "text/plain": [
       "{'bore': 8548.7981904120388,\n",
       " 'city-mpg': 3930.9488331225393,\n",
       " 'compression-rate': 5655.902027398407,\n",
       " 'curb-weight': 2480.6611506438612,\n",
       " 'engine-size': 3666.9495553618713,\n",
       " 'height': 7082.2688460579593,\n",
       " 'highway-mpg': 2724.7104778738044,\n",
       " 'horsepower': 3890.2488367410001,\n",
       " 'length': 7463.5713820989404,\n",
       " 'normalized-losses': 10505.295398857423,\n",
       " 'peak-rpm': 6561.523177780371,\n",
       " 'stroke': 7939.1842604126732,\n",
       " 'wheel-base': 6097.1097033034957,\n",
       " 'width': 4444.0006731260855}"
      ]
     },
     "execution_count": 19,
     "metadata": {},
     "output_type": "execute_result"
    }
   ],
   "source": [
    "rmse_univariate"
   ]
  },
  {
   "cell_type": "markdown",
   "metadata": {},
   "source": [
    "###### 2. Use different values for k parameter"
   ]
  },
  {
   "cell_type": "code",
   "execution_count": 20,
   "metadata": {
    "collapsed": false
   },
   "outputs": [],
   "source": [
    "def knn_train_test(col, data):\n",
    "    train_df = data.iloc[:150]\n",
    "    test_df = data.iloc[150:]\n",
    "    hyper_params = [1, 3, 5, 7, 9]\n",
    "    rmses = []\n",
    "    for hp in hyper_params:\n",
    "        knn = KNeighborsRegressor(n_neighbors = hp, algorithm = 'brute')    \n",
    "        knn.fit(train_df[[col]], train_df['price'])\n",
    "        prediction = knn.predict(test_df[[col]])\n",
    "        rmse = np.sqrt(mean_squared_error(test_df['price'], prediction))\n",
    "        rmses.append(rmse)\n",
    "        \n",
    "    rmses_k = {}   \n",
    "    for i, hp in enumerate(hyper_params):\n",
    "        rmses_k[hp] = rmses[i]\n",
    "    return(rmses_k)\n",
    "    \n",
    "\n",
    "  "
   ]
  },
  {
   "cell_type": "code",
   "execution_count": 21,
   "metadata": {
    "collapsed": false
   },
   "outputs": [
    {
     "data": {
      "text/plain": [
       "{'bore': {1: 9314.3700859499459,\n",
       "  3: 11991.108182682772,\n",
       "  5: 8548.7981904120388,\n",
       "  7: 7823.4666730237668,\n",
       "  9: 6362.6454224803474},\n",
       " 'city-mpg': {1: 3913.0031393582412,\n",
       "  3: 3629.1928500590029,\n",
       "  5: 3930.9488331225393,\n",
       "  7: 3587.900333387332,\n",
       "  9: 3568.2651951310781},\n",
       " 'compression-rate': {1: 6202.4611228440726,\n",
       "  3: 5818.3748955216524,\n",
       "  5: 5655.902027398407,\n",
       "  7: 6252.0960434061144,\n",
       "  9: 5779.8672172167153},\n",
       " 'curb-weight': {1: 3703.4384738256103,\n",
       "  3: 2514.0856985755549,\n",
       "  5: 2480.6611506438612,\n",
       "  7: 2666.1177156062308,\n",
       "  9: 2591.5949991842208},\n",
       " 'engine-size': {1: 5107.6249766364781,\n",
       "  3: 4583.5801948967919,\n",
       "  5: 3666.9495553618713,\n",
       "  7: 3295.7328430546545,\n",
       "  9: 3098.3916133125676},\n",
       " 'height': {1: 14180.166859965739,\n",
       "  3: 8866.9528281995681,\n",
       "  5: 7082.2688460579593,\n",
       "  7: 6652.3680692796661,\n",
       "  9: 5558.7972250264274},\n",
       " 'highway-mpg': {1: 4168.8784286593409,\n",
       "  3: 3760.6168342249666,\n",
       "  5: 2724.7104778738044,\n",
       "  7: 2457.3425154209249,\n",
       "  9: 2578.3407062736478},\n",
       " 'horsepower': {1: 4909.1239963729486,\n",
       "  3: 4280.2035772039353,\n",
       "  5: 3890.2488367410001,\n",
       "  7: 4192.3737931163159,\n",
       "  9: 3963.7297282674194},\n",
       " 'length': {1: 6411.5264081459527,\n",
       "  3: 5902.5306658617128,\n",
       "  5: 7463.5713820989404,\n",
       "  7: 5946.9676090842631,\n",
       "  9: 4910.0922430633573},\n",
       " 'normalized-losses': {1: 9763.6700187631359,\n",
       "  3: 10787.975973438477,\n",
       "  5: 10505.295398857423,\n",
       "  7: 8841.6999565495698,\n",
       "  9: 8580.5143196143399},\n",
       " 'peak-rpm': {1: 12440.303836684199,\n",
       "  3: 10887.41417431385,\n",
       "  5: 6561.523177780371,\n",
       "  7: 6139.7148986263664,\n",
       "  9: 6193.3378623150611},\n",
       " 'stroke': {1: 12221.988444971612,\n",
       "  3: 11674.828059922689,\n",
       "  5: 7939.1842604126732,\n",
       "  7: 6013.1748791508562,\n",
       "  9: 5624.0516625365972},\n",
       " 'wheel-base': {1: 6427.591370298007,\n",
       "  3: 5206.2119657846952,\n",
       "  5: 6097.1097033034957,\n",
       "  7: 5361.917393363432,\n",
       "  9: 5076.8345960464039},\n",
       " 'width': {1: 8208.1316973343164,\n",
       "  3: 5084.1086709681476,\n",
       "  5: 4444.0006731260855,\n",
       "  7: 3876.3599539512629,\n",
       "  9: 3476.6333950034841}}"
      ]
     },
     "execution_count": 21,
     "metadata": {},
     "output_type": "execute_result"
    }
   ],
   "source": [
    "rmses_k_dict = {}\n",
    "for c in columns:\n",
    "    rmse_univariate_k = knn_train_test(c, normalized_cars)\n",
    "    rmses_k_dict[c] = rmse_univariate_k\n",
    "    \n",
    "rmses_k_dict"
   ]
  },
  {
   "cell_type": "code",
   "execution_count": 22,
   "metadata": {
    "collapsed": true
   },
   "outputs": [],
   "source": [
    "import matplotlib.pyplot as plt\n",
    "%matplotlib inline"
   ]
  },
  {
   "cell_type": "code",
   "execution_count": 23,
   "metadata": {
    "collapsed": false
   },
   "outputs": [
    {
     "data": {
      "image/png": "[encoded data removed]",
      "text/plain": [
       "<matplotlib.figure.Figure at 0x7f72b4b31550>"
      ]
     },
     "metadata": {},
     "output_type": "display_data"
    }
   ],
   "source": [
    "for k,v in rmses_k_dict.items():\n",
    "    x = list(v.keys())\n",
    "    y = list(v.values())\n",
    "    \n",
    "    plt.plot(x,y)\n",
    "    plt.xlabel('k_value')\n",
    "    plt.ylabel('RMSE')\n",
    "    plt.show\n",
    "    \n"
   ]
  },
  {
   "cell_type": "markdown",
   "metadata": {
    "collapsed": true
   },
   "source": [
    "# Multivariate Model"
   ]
  },
  {
   "cell_type": "code",
   "execution_count": 30,
   "metadata": {
    "collapsed": true
   },
   "outputs": [],
   "source": [
    "def knn_train_test(feature, data):\n",
    "    train_df = data.iloc[:150]\n",
    "    test_df = data.iloc[150:]\n",
    "    knn = KNeighborsRegressor(algorithm = 'brute')\n",
    "    knn.fit(train_df[feature], train_df['price'])\n",
    "    prediction = knn.predict(test_df[feature])\n",
    "    rmse = np.sqrt(mean_squared_error(test_df['price'], prediction))        \n",
    "    return(rmse) "
   ]
  },
  {
   "cell_type": "code",
   "execution_count": 31,
   "metadata": {
    "collapsed": false
   },
   "outputs": [
    {
     "data": {
      "text/plain": [
       "2643.0162107327451"
      ]
     },
     "execution_count": 31,
     "metadata": {},
     "output_type": "execute_result"
    }
   ],
   "source": [
    "RMSE_all = knn_train_test(columns, normalized_cars)\n",
    "RMSE_all"
   ]
  },
  {
   "cell_type": "code",
   "execution_count": 32,
   "metadata": {
    "collapsed": false
   },
   "outputs": [
    {
     "data": {
      "text/plain": [
       "[2711.1461842100766, 2746.1195705369919, 2493.9496669292407, 2370.412266616398]"
      ]
     },
     "execution_count": 32,
     "metadata": {},
     "output_type": "execute_result"
    }
   ],
   "source": [
    "features = [['curb-weight', 'highway-mpg'],\n",
    "             ['curb-weight', 'highway-mpg', 'engine-size'],\n",
    "             ['curb-weight', 'highway-mpg', 'engine-size', 'horsepower'],\n",
    "            ['curb-weight', 'highway-mpg', 'engine-size', 'horsepower', 'city-mpg']]\n",
    "RMSE_mult = []\n",
    "for f in features:\n",
    "    rmse = knn_train_test(f, normalized_cars)\n",
    "    RMSE_mult.append(rmse)\n",
    "    \n",
    "RMSE_mult\n"
   ]
  },
  {
   "cell_type": "markdown",
   "metadata": {},
   "source": [
    "# Hyperparameter Tuning"
   ]
  },
  {
   "cell_type": "code",
   "execution_count": 73,
   "metadata": {
    "collapsed": true
   },
   "outputs": [],
   "source": [
    "def hyper_param_test(features, data):\n",
    "    hyper_params = [x for x in range(1, 25)]\n",
    "    rmse_values = list()\n",
    "    for hp in hyper_params:\n",
    "        train_df = data.iloc[:150]\n",
    "        test_df = data.iloc[150:]\n",
    "        knn = KNeighborsRegressor(n_neighbors=hp, algorithm='brute')\n",
    "        knn.fit(train_df[features], train_df['price'])\n",
    "        predictions = knn.predict(test_df[features])\n",
    "        rmse = np.sqrt(mean_squared_error(test_df['price'], predictions))\n",
    "        rmse_values.append(rmse)\n",
    "    rmses_hp = {}\n",
    "    for i, hp in enumerate(hyper_params):\n",
    "        rmses_hp[hp] =  rmse_values[i]\n",
    "    return (rmses_hp)"
   ]
  },
  {
   "cell_type": "code",
   "execution_count": 77,
   "metadata": {
    "collapsed": false
   },
   "outputs": [
    {
     "data": {
      "text/plain": [
       "{'feature_all': {1: 3019.1592746144074,\n",
       "  2: 2954.479915082763,\n",
       "  3: 2762.4212600298538,\n",
       "  4: 2660.8837025378189,\n",
       "  5: 2643.0162107327451,\n",
       "  6: 2652.3583882288308,\n",
       "  7: 2546.2112414869489,\n",
       "  8: 2393.2450776797255,\n",
       "  9: 2368.9421861531864,\n",
       "  10: 2297.7161353455849,\n",
       "  11: 2179.0762301164605,\n",
       "  12: 2181.7460224698889,\n",
       "  13: 2130.7855381867762,\n",
       "  14: 2157.3697321888399,\n",
       "  15: 2111.992220557403,\n",
       "  16: 2011.7853310084208,\n",
       "  17: 1911.8801962276802,\n",
       "  18: 1894.1476208825407,\n",
       "  19: 1919.269847972045,\n",
       "  20: 1898.5442010997301,\n",
       "  21: 1873.8965842528507,\n",
       "  22: 1876.0042553500234,\n",
       "  23: 1892.3470655731383,\n",
       "  24: 1888.4849391510454},\n",
       " 'feature_five': {1: 2573.9946676362033,\n",
       "  2: 2358.0490263742004,\n",
       "  3: 2290.2398728913231,\n",
       "  4: 2211.0144999236322,\n",
       "  5: 2370.412266616398,\n",
       "  6: 2615.2934946542478,\n",
       "  7: 2579.5685156030795,\n",
       "  8: 2656.2520583037008,\n",
       "  9: 2657.0508962499471,\n",
       "  10: 2570.0828065548822,\n",
       "  11: 2521.0429132810177,\n",
       "  12: 2430.7887145216819,\n",
       "  13: 2384.9785489528149,\n",
       "  14: 2296.3091117083095,\n",
       "  15: 2232.0543231377478,\n",
       "  16: 2250.350319916171,\n",
       "  17: 2258.8393871241469,\n",
       "  18: 2272.5331458252408,\n",
       "  19: 2251.013833627178,\n",
       "  20: 2234.491965694865,\n",
       "  21: 2271.689002691116,\n",
       "  22: 2268.3732365314763,\n",
       "  23: 2332.2157859944114,\n",
       "  24: 2392.0647818174198},\n",
       " 'feature_four': {1: 2966.2025567791447,\n",
       "  2: 2712.3197292586083,\n",
       "  3: 2651.3359751564949,\n",
       "  4: 2488.6604577110375,\n",
       "  5: 2493.9496669292407,\n",
       "  6: 2694.4430426180575,\n",
       "  7: 2799.1096683006317,\n",
       "  8: 2706.2138381748259,\n",
       "  9: 2707.0180742419461,\n",
       "  10: 2693.0059033158682,\n",
       "  11: 2654.912406449223,\n",
       "  12: 2666.3013135391525,\n",
       "  13: 2593.494091741557,\n",
       "  14: 2566.5203218219276,\n",
       "  15: 2527.8332123146588,\n",
       "  16: 2485.489370896003,\n",
       "  17: 2411.370899305462,\n",
       "  18: 2371.5678864954716,\n",
       "  19: 2407.8230663963091,\n",
       "  20: 2393.2958300628193,\n",
       "  21: 2445.8575330332355,\n",
       "  22: 2424.9381420123464,\n",
       "  23: 2412.4546050739859,\n",
       "  24: 2457.8583758531809}}"
      ]
     },
     "execution_count": 77,
     "metadata": {},
     "output_type": "execute_result"
    }
   ],
   "source": [
    "feature_all = columns\n",
    "feature_four = ['curb-weight', 'highway-mpg', 'engine-size', 'horsepower']\n",
    "feature_five = ['curb-weight', 'highway-mpg', 'engine-size', 'horsepower', \n",
    "                  'city-mpg']\n",
    "\n",
    "rmses_best_model = {}\n",
    "rmses_all = hyper_param_test(feature_all, normalized_cars)\n",
    "rmses_best_model[\"feature_all\"] = rmses_all\n",
    "\n",
    "rmses_four = hyper_param_test(feature_four, normalized_cars)\n",
    "rmses_best_model[\"feature_four\"] = rmses_four\n",
    "\n",
    "rmses_five = hyper_param_test(feature_five, normalized_cars)\n",
    "rmses_best_model[\"feature_five\"] = rmses_five\n",
    "\n",
    "rmses_best_model"
   ]
  },
  {
   "cell_type": "code",
   "execution_count": 82,
   "metadata": {
    "collapsed": false
   },
   "outputs": [
    {
     "data": {
      "image/png": "[encoded data removed]",
      "text/plain": [
       "<matplotlib.figure.Figure at 0x7f72b102beb8>"
      ]
     },
     "metadata": {},
     "output_type": "display_data"
    }
   ],
   "source": [
    "for k,v in rmses_best_model.items():\n",
    "    x = list(v.keys())\n",
    "    y = list(v.values())\n",
    "    \n",
    "    plt.plot(x,y)\n",
    "    plt.xlabel('k_value')\n",
    "    plt.ylabel('RMSE')\n",
    "    plt.legend(rmses_best_model.keys())\n",
    "    plt.show\n",
    "    "
   ]
  },
  {
   "cell_type": "code",
   "execution_count": null,
   "metadata": {
    "collapsed": true
   },
   "outputs": [],
   "source": []
  }
 ],
 "metadata": {
  "kernelspec": {
   "display_name": "Python 3",
   "language": "python",
   "name": "python3"
  },
  "language_info": {
   "codemirror_mode": {
    "name": "ipython",
    "version": 3
   },
   "file_extension": ".py",
   "mimetype": "text/x-python",
   "name": "python",
   "nbconvert_exporter": "python",
   "pygments_lexer": "ipython3",
   "version": "3.4.3"
  }
 },
 "nbformat": 4,
 "nbformat_minor": 2
}
